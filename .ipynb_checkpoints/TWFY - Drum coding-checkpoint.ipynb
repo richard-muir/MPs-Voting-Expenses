{
 "cells": [
  {
   "cell_type": "markdown",
   "metadata": {},
   "source": [
    "# Experiments with Rytch: They Work For You\n",
    "Let's have a play."
   ]
  },
  {
   "cell_type": "code",
   "execution_count": 2,
   "metadata": {
    "collapsed": true
   },
   "outputs": [],
   "source": [
    "# TWFY\n",
    "TWFY_API_KEY = \"BXXmLuAdj8GoAReftgCenqE3\"\n",
    "\n",
    "TWFY_API_URL = \"http://www.theyworkforyou.com/api/\"\n",
    "API_OUTPUT = \"js\"\n",
    "import requests as rq\n",
    "\n",
    "def twfy_api(endpoint, params):\n",
    "    \"\"\"Construct API url from inputs\"\"\"\n",
    "    url = \"{}{}\".format(TWFY_API_URL, endpoint)\n",
    "    params['key'] = TWFY_API_KEY\n",
    "    if 'output' not in params:\n",
    "        params['output'] = API_OUTPUT\n",
    "    response = rq.get(url, params)\n",
    "    return response"
   ]
  },
  {
   "cell_type": "code",
   "execution_count": 3,
   "metadata": {
    "collapsed": false
   },
   "outputs": [],
   "source": [
    "person = twfy_api('getPerson',{'person':'24709'})"
   ]
  },
  {
   "cell_type": "code",
   "execution_count": 5,
   "metadata": {
    "collapsed": false
   },
   "outputs": [
    {
     "data": {
      "text/plain": [
       "<Response [200]>"
      ]
     },
     "execution_count": 5,
     "metadata": {},
     "output_type": "execute_result"
    }
   ],
   "source": [
    "mps_resp = use_api('getMPs', {})\n",
    "mps_resp"
   ]
  },
  {
   "cell_type": "code",
   "execution_count": 15,
   "metadata": {
    "collapsed": false
   },
   "outputs": [],
   "source": [
    "import pandas as pd\n",
    "\n",
    "mps_df = pd.DataFrame.from_records(mps_resp.json())"
   ]
  },
  {
   "cell_type": "code",
   "execution_count": 21,
   "metadata": {
    "collapsed": false
   },
   "outputs": [],
   "source": [
    "mps_df.set_index('person_id', inplace=True)"
   ]
  },
  {
   "cell_type": "code",
   "execution_count": 22,
   "metadata": {
    "collapsed": false
   },
   "outputs": [
    {
     "data": {
      "text/html": [
       "<div>\n",
       "<table border=\"1\" class=\"dataframe\">\n",
       "  <thead>\n",
       "    <tr style=\"text-align: right;\">\n",
       "      <th></th>\n",
       "      <th>constituency</th>\n",
       "      <th>member_id</th>\n",
       "      <th>name</th>\n",
       "      <th>office</th>\n",
       "      <th>party</th>\n",
       "    </tr>\n",
       "    <tr>\n",
       "      <th>person_id</th>\n",
       "      <th></th>\n",
       "      <th></th>\n",
       "      <th></th>\n",
       "      <th></th>\n",
       "      <th></th>\n",
       "    </tr>\n",
       "  </thead>\n",
       "  <tbody>\n",
       "    <tr>\n",
       "      <th>24709</th>\n",
       "      <td>Houghton and Sunderland South</td>\n",
       "      <td>40706</td>\n",
       "      <td>Bridget Phillipson</td>\n",
       "      <td>[{'position': 'Member', 'dept': 'Speaker's Com...</td>\n",
       "      <td>Labour</td>\n",
       "    </tr>\n",
       "    <tr>\n",
       "      <th>24710</th>\n",
       "      <td>Sunderland Central</td>\n",
       "      <td>40707</td>\n",
       "      <td>Julie Elliott</td>\n",
       "      <td>[{'position': 'Member', 'dept': 'Culture, Medi...</td>\n",
       "      <td>Labour</td>\n",
       "    </tr>\n",
       "    <tr>\n",
       "      <th>11592</th>\n",
       "      <td>Washington and Sunderland West</td>\n",
       "      <td>40708</td>\n",
       "      <td>Sharon Hodgson</td>\n",
       "      <td>[{'position': 'Shadow Minister (Education)', '...</td>\n",
       "      <td>Labour</td>\n",
       "    </tr>\n",
       "    <tr>\n",
       "      <th>24870</th>\n",
       "      <td>North Swindon</td>\n",
       "      <td>40709</td>\n",
       "      <td>Justin Tomlinson</td>\n",
       "      <td>[{'position': 'Parliamentary Under-Secretary o...</td>\n",
       "      <td>Conservative</td>\n",
       "    </tr>\n",
       "    <tr>\n",
       "      <th>11771</th>\n",
       "      <td>Putney</td>\n",
       "      <td>40710</td>\n",
       "      <td>Justine Greening</td>\n",
       "      <td>[{'position': 'The Secretary of State for Inte...</td>\n",
       "      <td>Conservative</td>\n",
       "    </tr>\n",
       "  </tbody>\n",
       "</table>\n",
       "</div>"
      ],
      "text/plain": [
       "                             constituency member_id                name  \\\n",
       "person_id                                                                 \n",
       "24709       Houghton and Sunderland South     40706  Bridget Phillipson   \n",
       "24710                  Sunderland Central     40707       Julie Elliott   \n",
       "11592      Washington and Sunderland West     40708      Sharon Hodgson   \n",
       "24870                       North Swindon     40709    Justin Tomlinson   \n",
       "11771                              Putney     40710    Justine Greening   \n",
       "\n",
       "                                                      office         party  \n",
       "person_id                                                                   \n",
       "24709      [{'position': 'Member', 'dept': 'Speaker's Com...        Labour  \n",
       "24710      [{'position': 'Member', 'dept': 'Culture, Medi...        Labour  \n",
       "11592      [{'position': 'Shadow Minister (Education)', '...        Labour  \n",
       "24870      [{'position': 'Parliamentary Under-Secretary o...  Conservative  \n",
       "11771      [{'position': 'The Secretary of State for Inte...  Conservative  "
      ]
     },
     "execution_count": 22,
     "metadata": {},
     "output_type": "execute_result"
    }
   ],
   "source": [
    "mps_df.head()"
   ]
  },
  {
   "cell_type": "code",
   "execution_count": 41,
   "metadata": {
    "collapsed": false
   },
   "outputs": [],
   "source": [
    "# Let's get Bridget's speeches\n",
    "bridget_id = mps_df.index[0]\n",
    "query_params = {\n",
    "    'type': 'commons',\n",
    "    'order': 'd',\n",
    "    'person': bridget_id,\n",
    "    'num': 1000\n",
    "}\n",
    "bridgets_debates = use_api('getDebates', query_params)"
   ]
  },
  {
   "cell_type": "code",
   "execution_count": 42,
   "metadata": {
    "collapsed": false
   },
   "outputs": [],
   "source": [
    "debs_df = pd.DataFrame.from_records(bridgets_debates.json()['rows'])"
   ]
  },
  {
   "cell_type": "code",
   "execution_count": 55,
   "metadata": {
    "collapsed": false
   },
   "outputs": [],
   "source": [
    "import indicoio as indy\n",
    "sents = indy.sentiment(list(debs_df.extract)[:100])\n",
    "debs_df['sentiment_score'] = indy.sentiment_hq(debs_df.extract.tolist())"
   ]
  },
  {
   "cell_type": "code",
   "execution_count": 58,
   "metadata": {
    "collapsed": false
   },
   "outputs": [],
   "source": [
    "happytimes = debs_df.sentiment_score > 0.5\n",
    "sadtimes = debs_df.sentiment_score < 0.5"
   ]
  },
  {
   "cell_type": "code",
   "execution_count": 59,
   "metadata": {
    "collapsed": false
   },
   "outputs": [
    {
     "data": {
      "text/plain": [
       "139"
      ]
     },
     "execution_count": 59,
     "metadata": {},
     "output_type": "execute_result"
    }
   ],
   "source": [
    "sum(happytimes)"
   ]
  },
  {
   "cell_type": "code",
   "execution_count": 60,
   "metadata": {
    "collapsed": false
   },
   "outputs": [
    {
     "data": {
      "text/plain": [
       "70"
      ]
     },
     "execution_count": 60,
     "metadata": {},
     "output_type": "execute_result"
    }
   ],
   "source": [
    "sum(sadtimes)"
   ]
  },
  {
   "cell_type": "code",
   "execution_count": null,
   "metadata": {
    "collapsed": true
   },
   "outputs": [],
   "source": []
  }
 ],
 "metadata": {
  "kernelspec": {
   "display_name": "Python 3",
   "language": "python",
   "name": "python3"
  },
  "language_info": {
   "codemirror_mode": {
    "name": "ipython",
    "version": 3
   },
   "file_extension": ".py",
   "mimetype": "text/x-python",
   "name": "python",
   "nbconvert_exporter": "python",
   "pygments_lexer": "ipython3",
   "version": "3.4.3"
  }
 },
 "nbformat": 4,
 "nbformat_minor": 0
}
