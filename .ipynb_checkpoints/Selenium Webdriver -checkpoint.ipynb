{
 "cells": [
  {
   "cell_type": "code",
   "execution_count": 2,
   "metadata": {
    "collapsed": false
   },
   "outputs": [],
   "source": [
    "from urllib import request\n",
    "response = request.urlopen(\"http://www.parliamentary-standards.org.uk/DataDownloads.aspx\")\n",
    "from bs4 import BeautifulSoup as bs\n",
    "import requests as rq\n",
    "import selenium as sl\n",
    "from selenium import webdriver as wb"
   ]
  },
  {
   "cell_type": "code",
   "execution_count": 4,
   "metadata": {
    "collapsed": true
   },
   "outputs": [],
   "source": [
    "text = response.read()"
   ]
  },
  {
   "cell_type": "code",
   "execution_count": 5,
   "metadata": {
    "collapsed": false
   },
   "outputs": [
    {
     "data": {
      "text/plain": [
       "<!DOCTYPE html>\n",
       "<html>\n",
       "<head><meta content=\"IE=EmulateIE7,chrome=1\" http-equiv=\"X-UA-Compatible\"/><meta content=\"text/html; charset=utf-8\" http-equiv=\"Content-Type\"/><title>\n",
       "\tIndependent Parliamentary Standards Authority\n",
       "</title><meta content=\"text/html; charset=utf-8\" http-equiv=\"Content-Type\"/><meta content=\"Home - Independent Parliamentary Standards Authority\" name=\"DC.title\"/><meta content=\"Independent Parliamentary Standards Authority\" name=\"Author\"/><meta content=\"IPSA, Independent, Parliamentary, Standards, Authority, Implementation, Programme\" name=\"keywords\"/><meta content=\"IPSA, Independent, Parliamentary, Standards, Authority, Implementation, Programme\" name=\"DC.subject.keyword\"/><meta content=\"The Independent Parliamentary Standards Authority is an independent body which will oversee the system of allowances and salaries for Members of Parliament. The IPSA is established in statute by the Parliamentary Standards Act 2009.\" name=\"description\"/><meta content=\"The Independent Parliamentary Standards Authority is an independent body which will oversee the system of allowances and salaries for Members of Parliament. The IPSA is established in statute by the Parliamentary Standards Act 2009.\" name=\"DC.description\"/><meta content=\"Independent Parliamentary Standards Authority\" name=\"DC.creator\"/><meta content=\"Independent Parliamentary Standards Authority\" name=\"DC.contributor\"/><meta content=\"Independent Parliamentary Standards Authority\" name=\"DC.publisher\"/><meta content=\"Text/HTML\" name=\"DC.format\"/><meta content=\"ENG\" name=\"DC.language\"/><meta content=\"England, Wales\" name=\"DC.coverage\"/><meta content=\"Crown Copyright\" name=\"DC.rights.copyright\"/><meta content='(pics-1.1 \"http://www.icra.org/pics/vocabularyv03/\" l gen true for \"http://parliamentarystandards.org.uk\" r (n 0 s 0 v 0 l 0 oa 0 ob 0 oc 0 od 0 oe 0 of 0 og 0 oh 0 c 0) gen true for \"http://www.parliamentarystandards.org.uk\" r (n 0 s 0 v 0 l 0 oa 0 ob 0 oc 0 od 0 oe 0 of 0 og 0 oh 0 c 0))' http-equiv=\"pics-Label\"/><link href=\"css/Reset.css\" media=\"screen\" rel=\"stylesheet\" type=\"text/css\"/><link href=\"css/Styles.css\" media=\"screen\" rel=\"stylesheet\" type=\"text/css\"/><link href=\"css/smoothness/jquery-ui-1.8.18.custom.css\" media=\"screen\" rel=\"stylesheet\" type=\"text/css\"/>\n",
       "<!--[if IE 7]>\n",
       "        <link href=\"css/IE7Styles.css\" rel=\"stylesheet\" type=\"text/css\" media=\"screen\" />\n",
       "    <![endif]-->\n",
       "<!--[if IE 8]>\n",
       "        <link href=\"css/IE8Styles.css\" rel=\"stylesheet\" type=\"text/css\" media=\"screen\" />            \n",
       "    <![endif]-->\n",
       "<link href=\"favicon.ico\" rel=\"shortcut icon\" type=\"image/x-icon\"/>\n",
       "<script src=\"js/jquery-1.7.1.min.js\" type=\"text/javascript\"></script>\n",
       "<script src=\"js/jquery-ui-1.8.18.custom.min.js\" type=\"text/javascript\"></script>\n",
       "<script src=\"js/IPSATopMenu.js\" type=\"text/javascript\"></script>\n",
       "</head>\n",
       "<body>\n",
       "<form action=\"DataDownloads.aspx\" id=\"aspnetForm\" method=\"post\" name=\"aspnetForm\">\n",
       "<input id=\"ctl00_ScriptsManager_HiddenField\" name=\"ctl00_ScriptsManager_HiddenField\" type=\"hidden\" value=\"\"/>\n",
       "<input id=\"__VIEWSTATE\" name=\"__VIEWSTATE\" type=\"hidden\" value=\"/wEPDwUJMTIxNjE5Njc0D2QWAmYPZBYCAgEPZBYEAgkPFgIeBWNsYXNzBQhzZWxlY3RlZGQCDw9kFgYCAQ9kFgJmD2QWBAIBDw8WAh4EVGV4dAULTGF0ZXN0IGRhdGFkZAIDDw8WAh8BBSBMYXRlc3QgZGF0YSBpcyByZWFkeSB0byBkb3dubG9hZGRkAgUPZBYCZg9kFgQCAQ8PFgQfAQUJMjAxNS8yMDE2Hg9Db21tYW5kQXJndW1lbnQFBDIwMTVkZAIDDw8WAh8BBSMyMDE1LzIwMTYgZGF0YSBpcyByZWFkeSB0byBkb3dubG9hZGRkAgkPZBYCAgEPFgIeC18hSXRlbUNvdW50AgUWCmYPZBYCAgEPZBYCZg9kFgQCAQ8PFgQfAQUJMjAxMS8yMDEyHwIFBDIwMTFkZAIDDw8WBB4LTmF2aWdhdGVVcmwFASMfAQUjMjAxMS8yMDEyIGRhdGEgaXMgcmVhZHkgdG8gZG93bmxvYWRkZAIBD2QWAgIBD2QWAmYPZBYEAgEPDxYEHwEFCTIwMTIvMjAxMx8CBQQyMDEyZGQCAw8PFgQfBAUBIx8BBSMyMDEyLzIwMTMgZGF0YSBpcyByZWFkeSB0byBkb3dubG9hZGRkAgIPZBYCAgEPZBYCZg9kFgQCAQ8PFgQfAQUJMjAxMC8yMDExHwIFBDIwMTBkZAIDDw8WBB8EBQEjHwEFIzIwMTAvMjAxMSBkYXRhIGlzIHJlYWR5IHRvIGRvd25sb2FkZGQCAw9kFgICAQ9kFgJmD2QWBAIBDw8WBB8BBQkyMDEzLzIwMTQfAgUEMjAxM2RkAgMPDxYEHwQFASMfAQUjMjAxMy8yMDE0IGRhdGEgaXMgcmVhZHkgdG8gZG93bmxvYWRkZAIED2QWAgIBD2QWAmYPZBYEAgEPDxYEHwEFCTIwMTQvMjAxNR8CBQQyMDE0ZGQCAw8PFgQfBAUBIx8BBSMyMDE0LzIwMTUgZGF0YSBpcyByZWFkeSB0byBkb3dubG9hZGRkZKJW58ldqbFxgNLQlZRhtzoHRp7E\"/>\n",
       "<script src=\"/ScriptResource.axd?d=S8TwzrCP0ulPwz_0svAgQLfqBPtdV7XVdFbpizez1V5Qv5Tv8kZ8xTUY8SwmIBMms5Qae3_QY9shEBB5uMcd7cr_Hq6tTQ5NNoxnfIgVtSM8oronxerX1jSCqx_ahFL6aK9mPsOeRG9eje64pYd5BlbRlpg1&amp;t=ffffffffad814a16\" type=\"text/javascript\"></script>\n",
       "<input id=\"__EVENTVALIDATION\" name=\"__EVENTVALIDATION\" type=\"hidden\" value=\"/wEWCAKKipbGCgK5w4HTCQL5n4/UDALv3eaXCgL924fYCwLujtYFArqUqe0FArz3wa0Ha5u1pDtXKhrue1S77XSUX48V9es=\"/>\n",
       "<div id=\"bodyContainer\">\n",
       "<div class=\"mainWrap\">\n",
       "<div class=\"headerWrap\">\n",
       "<div class=\"logoWrap\">\n",
       "<a href=\"/\">\n",
       "<img alt=\"IPSA Logo\" src=\"Images/IPSANewDesign/logo.png\"/>\n",
       "</a>\n",
       "</div>\n",
       "<div class=\"headerRight\"></div>\n",
       "</div>\n",
       "<div class=\"topMenuWrap\">\n",
       "<div class=\"TopMenuOne\">\n",
       "<ul>\n",
       "<li id=\"ctl00_TopNavLink1\"><a href=\"Default.aspx\"><span class=\"additional-background\">Home</span></a></li>\n",
       "<li id=\"ctl00_TopNavLink2\"><a href=\"InteractiveMap.aspx\"><span class=\"additional-background\">Interactive Map</span></a></li>\n",
       "<li id=\"ctl00_TopNavLink3\"><a href=\"SearchFunction.aspx\"><span class=\"additional-background\">Search Function</span></a></li>\n",
       "<li class=\"selected\" id=\"ctl00_TopNavLink4\"><a href=\"DataDownloads.aspx\"><span class=\"additional-background\">Data Downloads</span></a></li>\n",
       "<li id=\"ctl00_TopNavLink5\"><a href=\"AnnualisedData.aspx\"><span class=\"additional-background\">Aggregate Data</span></a></li>\n",
       "<li class=\"hasdropdown\" id=\"ctl00_TopNavLink6\">\n",
       "<a href=\"#\"><span class=\"additional-background\">Useful Documents</span></a>\n",
       "<ul class=\"dropdown\">\n",
       "<li><a href=\"http://www.parliamentarystandards.org.uk/publicationsdocs/definitions.pdf\"><span class=\"additional-background\">Definitions</span></a></li>\n",
       "<li><a href=\"http://www.parliamentarystandards.org.uk/publicationsdocs/IPSA Publication Policy.pdf\"><span class=\"additional-background\">IPSA Publication Policy</span></a></li>\n",
       "<li><a href=\"http://www.parliamentarystandards.org.uk/publicationsdocs/Publication FAQs for website.pdf\"><span class=\"additional-background\">FAQs on Publication</span></a></li>\n",
       "<li><a href=\"http://www.parliamentarystandards.org.uk/publicationsdocs/Claims_resulting_from_IPSA_errors.xlsx\"><span class=\"additional-background\">Publication Errors</span></a></li>\n",
       "<li><a href=\"http://www.parliamentarystandards.org.uk/publicationsdocs/MP_cheques.xls\"><span class=\"additional-background\">Repayments to IPSA</span></a></li>\n",
       "<li><a href=\"/files/Publication_dates.pdf\"><span class=\"additional-background\">Future Publication Dates</span></a></li>\n",
       "<li class=\"hoverBottomEdge\"></li>\n",
       "</ul>\n",
       "</li>\n",
       "<li class=\"lastLink\"><a href=\"http://www.parliamentarystandards.org.uk\"><span class=\"additional-background\">IPSA Home</span></a></li>\n",
       "</ul>\n",
       "</div>\n",
       "</div>\n",
       "<div class=\"mainContentWrap\">\n",
       "<h1>Data Downloads</h1>\n",
       "<p>\n",
       "        This page gives you access to download information about the business costs and expenses claimed by MPs.\n",
       "    </p>\n",
       "<h2>Latest Publication Cycle</h2>\n",
       "<p>\n",
       "        This download contains the claims data added to the website on the last publication date.  The date of future publications can be found on this website within our <a href=\"http://www.parliamentarystandards.org.uk/Publicationsdocs/Date%20of%20future%20publications.pdf\n",
       "\n",
       "\">useful documents.</a>\n",
       "</p>\n",
       "<h2>Current year to date</h2>\n",
       "<p>\n",
       "        This download shows all claims published to date for the current financial year.\n",
       "    </p>\n",
       "<h2>Annual Archive</h2>\n",
       "<p>\n",
       "        This download gives you the details of all claims by MP for a previous financial year.\n",
       "    </p>\n",
       "<hr class=\"pageLine\"/>\n",
       "<div class=\"linkList\">\n",
       "<div class=\"listHeading\">Latest Publication Cycle</div>\n",
       "<ul>\n",
       "<li>\n",
       "<span class=\"iconExcel\"></span>\n",
       "<div class=\"dataDownloadLink\">\n",
       "<div id=\"ctl00_cphMainContentsArea_updLatestCsv\">\n",
       "<a href=\"javascript:__doPostBack('ctl00$cphMainContentsArea$lnkBtnLatest','')\" id=\"ctl00_cphMainContentsArea_lnkBtnLatest\">Latest data</a>\n",
       "</div>\n",
       "</div>\n",
       "<div class=\"dataDownloadSpinner\">\n",
       "<div id=\"ctl00_cphMainContentsArea_UpdateProgressLatest\" style=\"display:none;\">\n",
       "<img alt=\"Export In Progress\" src=\"Images/ajax-loader-sm.gif\"/>\n",
       "</div>\n",
       "</div>\n",
       "</li>\n",
       "</ul>\n",
       "</div>\n",
       "<div class=\"linkList\">\n",
       "<div class=\"listHeading\">Current Year to date</div>\n",
       "<ul>\n",
       "<li>\n",
       "<span class=\"iconExcel\"></span>\n",
       "<div class=\"dataDownloadLink\">\n",
       "<div id=\"ctl00_cphMainContentsArea_updCurrentYearsCsv\">\n",
       "<a href=\"javascript:__doPostBack('ctl00$cphMainContentsArea$lnkBtnDownloadCurrentYearsData','')\" id=\"ctl00_cphMainContentsArea_lnkBtnDownloadCurrentYearsData\">2015/2016</a>\n",
       "</div>\n",
       "</div>\n",
       "<div class=\"dataDownloadSpinner\">\n",
       "<div id=\"ctl00_cphMainContentsArea_UpdateProgressCurrentYears\" style=\"display:none;\">\n",
       "<img alt=\"Export In Progress\" src=\"Images/ajax-loader-sm.gif\"/>\n",
       "</div>\n",
       "</div>\n",
       "</li>\n",
       "</ul>\n",
       "</div>\n",
       "<div class=\"linkList\">\n",
       "<div class=\"listHeading\">Annual Archive</div>\n",
       "<ul id=\"ctl00_cphMainContentsArea_annualArchiveList\">\n",
       "<li>\n",
       "<span class=\"iconExcel\"></span>\n",
       "<div class=\"dataDownloadLink\">\n",
       "<div id=\"ctl00_cphMainContentsArea_repeaterLinks_ctl00_UpdatePanel2011\">\n",
       "<a href=\"javascript:__doPostBack('ctl00$cphMainContentsArea$repeaterLinks$ctl00$lnkExport2011','')\" id=\"ctl00_cphMainContentsArea_repeaterLinks_ctl00_lnkExport2011\">2011/2012</a>\n",
       "</div>\n",
       "</div>\n",
       "<div class=\"dataDownloadSpinner\">\n",
       "<div id=\"ctl00_cphMainContentsArea_repeaterLinks_ctl00_UpdateProgress2011\" style=\"display:none;\">\n",
       "<img alt=\"Export In Progress\" src=\"Images/ajax-loader-sm.gif\"/>\n",
       "</div>\n",
       "</div>\n",
       "</li>\n",
       "<li>\n",
       "<span class=\"iconExcel\"></span>\n",
       "<div class=\"dataDownloadLink\">\n",
       "<div id=\"ctl00_cphMainContentsArea_repeaterLinks_ctl01_UpdatePanel2012\">\n",
       "<a href=\"javascript:__doPostBack('ctl00$cphMainContentsArea$repeaterLinks$ctl01$lnkExport2012','')\" id=\"ctl00_cphMainContentsArea_repeaterLinks_ctl01_lnkExport2012\">2012/2013</a>\n",
       "</div>\n",
       "</div>\n",
       "<div class=\"dataDownloadSpinner\">\n",
       "<div id=\"ctl00_cphMainContentsArea_repeaterLinks_ctl01_UpdateProgress2012\" style=\"display:none;\">\n",
       "<img alt=\"Export In Progress\" src=\"Images/ajax-loader-sm.gif\"/>\n",
       "</div>\n",
       "</div>\n",
       "</li>\n",
       "<li>\n",
       "<span class=\"iconExcel\"></span>\n",
       "<div class=\"dataDownloadLink\">\n",
       "<div id=\"ctl00_cphMainContentsArea_repeaterLinks_ctl02_UpdatePanel2010\">\n",
       "<a href=\"javascript:__doPostBack('ctl00$cphMainContentsArea$repeaterLinks$ctl02$lnkExport2010','')\" id=\"ctl00_cphMainContentsArea_repeaterLinks_ctl02_lnkExport2010\">2010/2011</a>\n",
       "</div>\n",
       "</div>\n",
       "<div class=\"dataDownloadSpinner\">\n",
       "<div id=\"ctl00_cphMainContentsArea_repeaterLinks_ctl02_UpdateProgress2010\" style=\"display:none;\">\n",
       "<img alt=\"Export In Progress\" src=\"Images/ajax-loader-sm.gif\"/>\n",
       "</div>\n",
       "</div>\n",
       "</li>\n",
       "<li>\n",
       "<span class=\"iconExcel\"></span>\n",
       "<div class=\"dataDownloadLink\">\n",
       "<div id=\"ctl00_cphMainContentsArea_repeaterLinks_ctl03_UpdatePanel2013\">\n",
       "<a href=\"javascript:__doPostBack('ctl00$cphMainContentsArea$repeaterLinks$ctl03$lnkExport2013','')\" id=\"ctl00_cphMainContentsArea_repeaterLinks_ctl03_lnkExport2013\">2013/2014</a>\n",
       "</div>\n",
       "</div>\n",
       "<div class=\"dataDownloadSpinner\">\n",
       "<div id=\"ctl00_cphMainContentsArea_repeaterLinks_ctl03_UpdateProgress2013\" style=\"display:none;\">\n",
       "<img alt=\"Export In Progress\" src=\"Images/ajax-loader-sm.gif\"/>\n",
       "</div>\n",
       "</div>\n",
       "</li>\n",
       "<li>\n",
       "<span class=\"iconExcel\"></span>\n",
       "<div class=\"dataDownloadLink\">\n",
       "<div id=\"ctl00_cphMainContentsArea_repeaterLinks_ctl04_UpdatePanel2014\">\n",
       "<a href=\"javascript:__doPostBack('ctl00$cphMainContentsArea$repeaterLinks$ctl04$lnkExport2014','')\" id=\"ctl00_cphMainContentsArea_repeaterLinks_ctl04_lnkExport2014\">2014/2015</a>\n",
       "</div>\n",
       "</div>\n",
       "<div class=\"dataDownloadSpinner\">\n",
       "<div id=\"ctl00_cphMainContentsArea_repeaterLinks_ctl04_UpdateProgress2014\" style=\"display:none;\">\n",
       "<img alt=\"Export In Progress\" src=\"Images/ajax-loader-sm.gif\"/>\n",
       "</div>\n",
       "</div>\n",
       "</li>\n",
       "</ul>\n",
       "</div>\n",
       "</div>\n",
       "<div class=\"footerWrap\">\n",
       "<div class=\"footer1\">\n",
       "<div class=\"footer1Links\">\n",
       "<div class=\"TopMenuTwo\">\n",
       "<ul>\n",
       "<li><a href=\"Default.aspx\"><span>Home</span></a></li>\n",
       "<li><a href=\"InteractiveMap.aspx\"><span>Interactive Map</span></a></li>\n",
       "<li><a href=\"SearchFunction.aspx\"><span>Search Function</span></a></li>\n",
       "<li><a href=\"DataDownloads.aspx\"><span>Data Downloads</span></a></li>\n",
       "<li><a href=\"AnnualisedData.aspx\"><span>Aggregate Data</span></a></li>\n",
       "<li><a href=\"#\"><span>Useful Documents</span></a></li>\n",
       "<li><a href=\"WebsitePrivacyPolicy.aspx\">Privacy Policy</a></li>\n",
       "<li><a href=\"http://www.parliamentarystandards.org.uk\"><span>IPSA Home</span></a></li>\n",
       "</ul>\n",
       "</div>\n",
       "</div>\n",
       "<div class=\"footer1Logo\">\n",
       "<img alt=\"IPSA\" src=\"Images/IPSANewDesign/footerlogo.gif\"/>\n",
       "</div>\n",
       "</div>\n",
       "<div class=\"footer2\">\n",
       "<div class=\"footer2Inner\">\n",
       "<div class=\"footer2QuickLinks\"></div>\n",
       "<div class=\"footer2r2Copright\">\n",
       "                                © IPSA 4th floor, 30 Millbank, London, SW1P 4DU \n",
       "                            </div>\n",
       "</div>\n",
       "</div>\n",
       "</div>\n",
       "</div>\n",
       "</div>\n",
       "<script type=\"text/javascript\">\n",
       "//<![CDATA[\n",
       "Sys.Application.initialize();\n",
       "//]]>\n",
       "</script>\n",
       "</form>\n",
       "<div class=\"overlay-bg\" id=\"loadingBackground\" style=\"z-index: 2; visibility: hidden;\">\n",
       "</div>\n",
       "<div align=\"center\" id=\"searchLoadingAnimation\" style=\"z-index: 3; visibility: hidden;\">\n",
       "<br/>\n",
       "<br/>\n",
       "<img alt=\"loading...\" src=\"images/ajax-loader.gif\"/>\n",
       "<br/>\n",
       "        Loading....Please wait\n",
       "    </div>\n",
       "<div id=\"dialog-modal\" title=\"Basic modal dialog\">\n",
       "<iframe frameborder=\"0\" height=\"100%\" id=\"modalIframeId\" marginheight=\"0\" marginwidth=\"0\" scrolling=\"auto\" title=\"Dialog Title\" width=\"100%\">Your browser does not support iframes</iframe>\n",
       "</div>\n",
       "</body>\n",
       "</html>"
      ]
     },
     "execution_count": 5,
     "metadata": {},
     "output_type": "execute_result"
    }
   ],
   "source": [
    "soup = bs(text)\n",
    "soup"
   ]
  },
  {
   "cell_type": "code",
   "execution_count": 6,
   "metadata": {
    "collapsed": false
   },
   "outputs": [
    {
     "data": {
      "text/plain": [
       "['<a href=\"javascript:__doPostBack(\\'ctl00$cphMainContentsArea$lnkBtnLatest\\',\\'\\')\" id=\"ctl00_cphMainContentsArea_lnkBtnLatest\">Latest data</a>',\n",
       " '<a href=\"javascript:__doPostBack(\\'ctl00$cphMainContentsArea$lnkBtnDownloadCurrentYearsData\\',\\'\\')\" id=\"ctl00_cphMainContentsArea_lnkBtnDownloadCurrentYearsData\">2015/2016</a>',\n",
       " '<a href=\"javascript:__doPostBack(\\'ctl00$cphMainContentsArea$repeaterLinks$ctl00$lnkExport2011\\',\\'\\')\" id=\"ctl00_cphMainContentsArea_repeaterLinks_ctl00_lnkExport2011\">2011/2012</a>',\n",
       " '<a href=\"javascript:__doPostBack(\\'ctl00$cphMainContentsArea$repeaterLinks$ctl01$lnkExport2012\\',\\'\\')\" id=\"ctl00_cphMainContentsArea_repeaterLinks_ctl01_lnkExport2012\">2012/2013</a>',\n",
       " '<a href=\"javascript:__doPostBack(\\'ctl00$cphMainContentsArea$repeaterLinks$ctl02$lnkExport2010\\',\\'\\')\" id=\"ctl00_cphMainContentsArea_repeaterLinks_ctl02_lnkExport2010\">2010/2011</a>',\n",
       " '<a href=\"javascript:__doPostBack(\\'ctl00$cphMainContentsArea$repeaterLinks$ctl03$lnkExport2013\\',\\'\\')\" id=\"ctl00_cphMainContentsArea_repeaterLinks_ctl03_lnkExport2013\">2013/2014</a>',\n",
       " '<a href=\"javascript:__doPostBack(\\'ctl00$cphMainContentsArea$repeaterLinks$ctl04$lnkExport2014\\',\\'\\')\" id=\"ctl00_cphMainContentsArea_repeaterLinks_ctl04_lnkExport2014\">2014/2015</a>']"
      ]
     },
     "execution_count": 6,
     "metadata": {},
     "output_type": "execute_result"
    }
   ],
   "source": [
    "download_link = []\n",
    "for item in soup.findAll('a'):\n",
    "    item = str(item)\n",
    "    if item.find(\"javascript\") >0:\n",
    "        download_link.append(item)\n",
    "        \n",
    "download_link\n",
    "        "
   ]
  },
  {
   "cell_type": "code",
   "execution_count": 11,
   "metadata": {
    "collapsed": false
   },
   "outputs": [
    {
     "data": {
      "text/plain": [
       "['ctl00_cphMainContentsArea_lnkBtnLatest',\n",
       " 'ctl00_cphMainContentsArea_lnkBtnDownloadCurrentYearsData',\n",
       " 'ctl00_cphMainContentsArea_repeaterLinks_ctl00_lnkExport2011',\n",
       " 'ctl00_cphMainContentsArea_repeaterLinks_ctl01_lnkExport2012',\n",
       " 'ctl00_cphMainContentsArea_repeaterLinks_ctl02_lnkExport2010',\n",
       " 'ctl00_cphMainContentsArea_repeaterLinks_ctl03_lnkExport2013',\n",
       " 'ctl00_cphMainContentsArea_repeaterLinks_ctl04_lnkExport2014']"
      ]
     },
     "execution_count": 11,
     "metadata": {},
     "output_type": "execute_result"
    }
   ],
   "source": [
    "id_list = []\n",
    "for link in download_link:\n",
    "    id_start = link.find(\"id=\")\n",
    "    id_end = link.find('\"',id_start+10)\n",
    "    id_list.append(link[id_start+4:id_end])\n",
    "    \n",
    "id_list"
   ]
  },
  {
   "cell_type": "code",
   "execution_count": 12,
   "metadata": {
    "collapsed": false
   },
   "outputs": [],
   "source": [
    "driver = wb.Chrome(r\"C:\\Users\\Rytch\\Anaconda3\\Lib\\site-packages\\selenium\\webdriver\\chrome\\chromedriver_win32\\chromedriver.exe\")\n",
    "driver.get(\"http://www.parliamentary-standards.org.uk/DataDownloads.aspx\")"
   ]
  },
  {
   "cell_type": "code",
   "execution_count": 13,
   "metadata": {
    "collapsed": false
   },
   "outputs": [],
   "source": [
    "for id_ in id_list[1:]:\n",
    "    elem = driver.find_element_by_id(id_)\n",
    "    elem.click()"
   ]
  },
  {
   "cell_type": "code",
   "execution_count": 101,
   "metadata": {
    "collapsed": false
   },
   "outputs": [],
   "source": [
    "elem.click()"
   ]
  },
  {
   "cell_type": "code",
   "execution_count": 72,
   "metadata": {
    "collapsed": false
   },
   "outputs": [],
   "source": [
    "driver.save_screenshot('a')"
   ]
  },
  {
   "cell_type": "code",
   "execution_count": 96,
   "metadata": {
    "collapsed": false
   },
   "outputs": [],
   "source": [
    "url = driver.find_element_by_tag_name('div')"
   ]
  },
  {
   "cell_type": "code",
   "execution_count": 98,
   "metadata": {
    "collapsed": false
   },
   "outputs": [
    {
     "data": {
      "text/plain": [
       "'<div>\\n<input type=\"hidden\" name=\"ctl00_ScriptsManager_HiddenField\" id=\"ctl00_ScriptsManager_HiddenField\" value=\"\">\\n\\n\\n\\n</div>'"
      ]
     },
     "execution_count": 98,
     "metadata": {},
     "output_type": "execute_result"
    }
   ],
   "source": [
    "url.get_attribute('outerHTML')"
   ]
  },
  {
   "cell_type": "code",
   "execution_count": 64,
   "metadata": {
    "collapsed": false
   },
   "outputs": [],
   "source": [
    "response = request.urlopen(\"http://www.parliamentary-standards.org.uk/Files/DataDownload_Latest.csv\")\n",
    "csv = response.read()"
   ]
  },
  {
   "cell_type": "code",
   "execution_count": 82,
   "metadata": {
    "collapsed": false
   },
   "outputs": [],
   "source": [
    "csvstr = str(csv).strip(\"b'\")\n",
    "lines = csvstr.split(\"\\\\n\")\n",
    "f = open(r\"C:\\Users\\Rytch\\Desktop\\latest.csv\",'w')\n",
    "for line in lines:\n",
    "    f.write(line+\"\\n\")\n",
    "f.close()"
   ]
  },
  {
   "cell_type": "code",
   "execution_count": null,
   "metadata": {
    "collapsed": true
   },
   "outputs": [],
   "source": []
  }
 ],
 "metadata": {
  "kernelspec": {
   "display_name": "Python 3",
   "language": "python",
   "name": "python3"
  },
  "language_info": {
   "codemirror_mode": {
    "name": "ipython",
    "version": 3
   },
   "file_extension": ".py",
   "mimetype": "text/x-python",
   "name": "python",
   "nbconvert_exporter": "python",
   "pygments_lexer": "ipython3",
   "version": "3.4.3"
  }
 },
 "nbformat": 4,
 "nbformat_minor": 0
}
